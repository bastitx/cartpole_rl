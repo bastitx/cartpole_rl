{
 "cells": [
  {
   "cell_type": "code",
   "execution_count": 1,
   "metadata": {},
   "outputs": [],
   "source": [
    "import numpy as np\n",
    "import torch\n",
    "from scipy import optimize\n",
    "from sim.cartpole_dc import CartPoleEnv\n",
    "import csv\n",
    "from pyswarms.single.global_best import GlobalBestPSO\n",
    "from pyswarms.single.local_best import LocalBestPSO\n",
    "from matplotlib import pyplot as plt\n",
    "%load_ext autoreload\n",
    "%autoreload 2"
   ]
  },
  {
   "cell_type": "code",
   "execution_count": 2,
   "metadata": {},
   "outputs": [],
   "source": [
    "import tikzplotlib\n",
    "from util.io import read_data"
   ]
  },
  {
   "cell_type": "code",
   "execution_count": 3,
   "metadata": {},
   "outputs": [
    {
     "name": "stdout",
     "output_type": "stream",
     "text": [
      "torch.Size([24570, 4]) torch.Size([24570])\n"
     ]
    }
   ],
   "source": [
    "states, actions = read_data('data.csv')\n",
    "states = torch.tensor(states).detach()\n",
    "actions = - torch.tensor(actions).detach()\n",
    "print(states.shape, actions.shape)"
   ]
  },
  {
   "cell_type": "code",
   "execution_count": 4,
   "metadata": {},
   "outputs": [],
   "source": [
    "def fun(theta, render=False, steps=4, time_delay=0):\n",
    "    env = CartPoleEnv(swingup=True, solver='rk')\n",
    "    env.Psi = theta[0]\n",
    "    env.L = theta[1]\n",
    "    env.max_voltage = theta[2]\n",
    "    env.transform_factor = theta[3]\n",
    "    env.time_delay = time_delay\n",
    "    env.reset(n=len(states)-steps)\n",
    "    env.state = states[:len(states)-steps]\n",
    "    env.i = torch.zeros(len(states)-steps)\n",
    "    for j in range(steps-1):\n",
    "        env.step(actions[j:len(states)-(steps-j)])\n",
    "    s, *_ = env.step(actions[steps-1:len(states)-1])\n",
    "    s = s.numpy()\n",
    "    env.close()\n",
    "    return s"
   ]
  },
  {
   "cell_type": "code",
   "execution_count": 5,
   "metadata": {},
   "outputs": [],
   "source": [
    "def loss_(theta, steps=4, time_delay=0):\n",
    "    s = fun(theta, steps=steps, time_delay=time_delay)\n",
    "    if (s != s).any():\n",
    "        #print('nan')\n",
    "        return [np.inf]\n",
    "    delta_phi = (states[steps:,2] - s[:,2]) % (2 * np.pi)\n",
    "    delta_phi = np.minimum(delta_phi, 2*np.pi - delta_phi)**2\n",
    "    return (0.0 * delta_phi + (states[steps:,0] - s[:,0])**2).numpy()\n",
    "\n",
    "def loss(theta, steps=4, time_delay=0):\n",
    "    losses = []\n",
    "    for t in theta:\n",
    "        losses += [np.sum(loss_(t, steps, time_delay))]\n",
    "    print(theta[np.argmin(losses)], np.min(losses))\n",
    "    return losses\n"
   ]
  },
  {
   "cell_type": "code",
   "execution_count": null,
   "metadata": {
    "scrolled": true
   },
   "outputs": [
    {
     "name": "stderr",
     "output_type": "stream",
     "text": [
      "2020-04-28 13:39:30,683 - pyswarms.single.global_best - INFO - Optimize for 100 iters with {'c1': 0.5, 'c2': 0.3, 'w': 0.9, 'k': 3, 'p': 2}\n",
      "\n",
      "pyswarms.single.global_best:   0%|          |0/100\u001b[A\n",
      "pyswarms.single.global_best:   0%|          |0/100, best_cost=19.3\u001b[A\n",
      "pyswarms.single.global_best:   1%|          |1/100, best_cost=19.3\u001b[A"
     ]
    },
    {
     "name": "stdout",
     "output_type": "stream",
     "text": [
      "[4.18532218 1.15654625 9.09264607 1.98476551] 19.340456008911133\n"
     ]
    },
    {
     "name": "stderr",
     "output_type": "stream",
     "text": [
      "\n",
      "pyswarms.single.global_best:   1%|          |1/100, best_cost=18.8\u001b[A\n",
      "pyswarms.single.global_best:   2%|▏         |2/100, best_cost=18.8\u001b[A"
     ]
    },
    {
     "name": "stdout",
     "output_type": "stream",
     "text": [
      "[4.95919564 1.18179633 7.13922466 2.35254641] 18.779756546020508\n"
     ]
    },
    {
     "name": "stderr",
     "output_type": "stream",
     "text": [
      "\n",
      "pyswarms.single.global_best:   2%|▏         |2/100, best_cost=18.8\u001b[A\n",
      "pyswarms.single.global_best:   3%|▎         |3/100, best_cost=18.8\u001b[A"
     ]
    },
    {
     "name": "stdout",
     "output_type": "stream",
     "text": [
      "[3.28321199 1.32911431 5.85497328 2.48495062] 19.407514572143555\n"
     ]
    },
    {
     "name": "stderr",
     "output_type": "stream",
     "text": [
      "\n",
      "pyswarms.single.global_best:   3%|▎         |3/100, best_cost=18.8\u001b[A\n",
      "pyswarms.single.global_best:   4%|▍         |4/100, best_cost=18.8\u001b[A"
     ]
    },
    {
     "name": "stdout",
     "output_type": "stream",
     "text": [
      "[4.03809588 0.53864686 5.88694489 2.44790643] 19.9217472076416\n"
     ]
    },
    {
     "name": "stderr",
     "output_type": "stream",
     "text": [
      "\n",
      "pyswarms.single.global_best:   4%|▍         |4/100, best_cost=18.8\u001b[A\n",
      "pyswarms.single.global_best:   5%|▌         |5/100, best_cost=18.8\u001b[A"
     ]
    },
    {
     "name": "stdout",
     "output_type": "stream",
     "text": [
      "[4.85760701 1.43026835 7.52595448 2.29825305] 18.931332\n"
     ]
    },
    {
     "name": "stderr",
     "output_type": "stream",
     "text": [
      "\n",
      "pyswarms.single.global_best:   5%|▌         |5/100, best_cost=18.6\u001b[A\n",
      "pyswarms.single.global_best:   6%|▌         |6/100, best_cost=18.6\u001b[A"
     ]
    },
    {
     "name": "stdout",
     "output_type": "stream",
     "text": [
      "[4.89322797 0.84691174 6.32254271 2.51396859] 18.649999618530273\n"
     ]
    },
    {
     "name": "stderr",
     "output_type": "stream",
     "text": [
      "\n",
      "pyswarms.single.global_best:   6%|▌         |6/100, best_cost=18.6\u001b[A\n",
      "pyswarms.single.global_best:   7%|▋         |7/100, best_cost=18.6\u001b[A"
     ]
    },
    {
     "name": "stdout",
     "output_type": "stream",
     "text": [
      "[3.18314407 0.83628732 8.01567945 1.99359596] 18.9105167388916\n"
     ]
    },
    {
     "name": "stderr",
     "output_type": "stream",
     "text": [
      "\n",
      "pyswarms.single.global_best:   7%|▋         |7/100, best_cost=18  \u001b[A\n",
      "pyswarms.single.global_best:   8%|▊         |8/100, best_cost=18\u001b[A"
     ]
    },
    {
     "name": "stdout",
     "output_type": "stream",
     "text": [
      "[2.59364481 0.32654754 4.11161149 2.97479733] 17.969051361083984\n"
     ]
    },
    {
     "name": "stderr",
     "output_type": "stream",
     "text": [
      "\n",
      "pyswarms.single.global_best:   8%|▊         |8/100, best_cost=18\u001b[A\n",
      "pyswarms.single.global_best:   9%|▉         |9/100, best_cost=18\u001b[A"
     ]
    },
    {
     "name": "stdout",
     "output_type": "stream",
     "text": [
      "[3.11947844 1.23141365 5.92301444 2.34726213] 18.474807739257812\n"
     ]
    },
    {
     "name": "stderr",
     "output_type": "stream",
     "text": [
      "\n",
      "pyswarms.single.global_best:   9%|▉         |9/100, best_cost=18\u001b[A\n",
      "pyswarms.single.global_best:  10%|█         |10/100, best_cost=18\u001b[A"
     ]
    },
    {
     "name": "stdout",
     "output_type": "stream",
     "text": [
      "[2.72384516 0.6601344  5.22851765 2.53821384] 18.233787536621094\n"
     ]
    },
    {
     "name": "stderr",
     "output_type": "stream",
     "text": [
      "\n",
      "pyswarms.single.global_best:  10%|█         |10/100, best_cost=18\u001b[A\n",
      "pyswarms.single.global_best:  11%|█         |11/100, best_cost=18\u001b[A"
     ]
    },
    {
     "name": "stdout",
     "output_type": "stream",
     "text": [
      "[4.57232675 0.67802773 5.47435364 2.71922368] 18.451190948486328\n"
     ]
    },
    {
     "name": "stderr",
     "output_type": "stream",
     "text": [
      "\n",
      "pyswarms.single.global_best:  11%|█         |11/100, best_cost=18\u001b[A\n",
      "pyswarms.single.global_best:  12%|█▏        |12/100, best_cost=18\u001b[A"
     ]
    },
    {
     "name": "stdout",
     "output_type": "stream",
     "text": [
      "[3.37881274 0.84565562 7.05108891 2.16446881] 18.629039764404297\n"
     ]
    },
    {
     "name": "stderr",
     "output_type": "stream",
     "text": [
      "\n",
      "pyswarms.single.global_best:  12%|█▏        |12/100, best_cost=18\u001b[A\n",
      "pyswarms.single.global_best:  13%|█▎        |13/100, best_cost=18\u001b[A"
     ]
    },
    {
     "name": "stdout",
     "output_type": "stream",
     "text": [
      "[2.1617123  0.98773408 4.64320317 2.57285394] 18.472557067871094\n"
     ]
    },
    {
     "name": "stderr",
     "output_type": "stream",
     "text": [
      "\n",
      "pyswarms.single.global_best:  13%|█▎        |13/100, best_cost=18\u001b[A\n",
      "pyswarms.single.global_best:  14%|█▍        |14/100, best_cost=18\u001b[A"
     ]
    },
    {
     "name": "stdout",
     "output_type": "stream",
     "text": [
      "[3.80763886 0.46515891 5.10969094 2.74803955] 18.176759719848633\n"
     ]
    },
    {
     "name": "stderr",
     "output_type": "stream",
     "text": [
      "\n",
      "pyswarms.single.global_best:  14%|█▍        |14/100, best_cost=17.9\u001b[A\n",
      "pyswarms.single.global_best:  15%|█▌        |15/100, best_cost=17.9\u001b[A"
     ]
    },
    {
     "name": "stdout",
     "output_type": "stream",
     "text": [
      "[2.65099915 0.29432696 5.14666149 2.52739026] 17.918752670288086\n"
     ]
    },
    {
     "name": "stderr",
     "output_type": "stream",
     "text": [
      "\n",
      "pyswarms.single.global_best:  15%|█▌        |15/100, best_cost=17.9\u001b[A\n",
      "pyswarms.single.global_best:  16%|█▌        |16/100, best_cost=17.9\u001b[A"
     ]
    },
    {
     "name": "stdout",
     "output_type": "stream",
     "text": [
      "[4.15967803 0.52098082 4.98269342 2.8309956 ] 18.40036392211914\n"
     ]
    },
    {
     "name": "stderr",
     "output_type": "stream",
     "text": [
      "\n",
      "pyswarms.single.global_best:  16%|█▌        |16/100, best_cost=17.9\u001b[A\n",
      "pyswarms.single.global_best:  17%|█▋        |17/100, best_cost=17.9\u001b[A"
     ]
    },
    {
     "name": "stdout",
     "output_type": "stream",
     "text": [
      "[3.88377513 0.48653714 4.97830373 2.8233422 ] 18.254924774169922\n"
     ]
    },
    {
     "name": "stderr",
     "output_type": "stream",
     "text": [
      "\n",
      "pyswarms.single.global_best:  17%|█▋        |17/100, best_cost=17.9\u001b[A\n",
      "pyswarms.single.global_best:  18%|█▊        |18/100, best_cost=17.9\u001b[A"
     ]
    },
    {
     "name": "stdout",
     "output_type": "stream",
     "text": [
      "[2.84413333 0.31713829 4.8635648  2.65182699] 17.89189\n"
     ]
    },
    {
     "name": "stderr",
     "output_type": "stream",
     "text": [
      "\n",
      "pyswarms.single.global_best:  18%|█▊        |18/100, best_cost=17.9\u001b[A\n",
      "pyswarms.single.global_best:  19%|█▉        |19/100, best_cost=17.9\u001b[A"
     ]
    },
    {
     "name": "stdout",
     "output_type": "stream",
     "text": [
      "[2.91437675 0.84421265 5.75636705 2.39198647] 18.15370750427246\n"
     ]
    },
    {
     "name": "stderr",
     "output_type": "stream",
     "text": [
      "\n",
      "pyswarms.single.global_best:  19%|█▉        |19/100, best_cost=17.9\u001b[A\n",
      "pyswarms.single.global_best:  20%|██        |20/100, best_cost=17.9\u001b[A"
     ]
    },
    {
     "name": "stdout",
     "output_type": "stream",
     "text": [
      "[3.14907338 0.32498673 5.09108217 2.6228234 ] 18.006866455078125\n"
     ]
    },
    {
     "name": "stderr",
     "output_type": "stream",
     "text": [
      "\n",
      "pyswarms.single.global_best:  20%|██        |20/100, best_cost=17.9\u001b[A\n",
      "pyswarms.single.global_best:  21%|██        |21/100, best_cost=17.9\u001b[A"
     ]
    },
    {
     "name": "stdout",
     "output_type": "stream",
     "text": [
      "[2.75748241 0.39288729 4.7456784  2.70021363] 17.877803802490234\n"
     ]
    },
    {
     "name": "stderr",
     "output_type": "stream",
     "text": [
      "\n",
      "pyswarms.single.global_best:  21%|██        |21/100, best_cost=17.9\u001b[A\n",
      "pyswarms.single.global_best:  22%|██▏       |22/100, best_cost=17.9\u001b[A"
     ]
    },
    {
     "name": "stdout",
     "output_type": "stream",
     "text": [
      "[2.95675924 0.45093529 5.75151301 2.38838802] 18.078441619873047\n"
     ]
    },
    {
     "name": "stderr",
     "output_type": "stream",
     "text": [
      "\n",
      "pyswarms.single.global_best:  22%|██▏       |22/100, best_cost=17.9\u001b[A\n",
      "pyswarms.single.global_best:  23%|██▎       |23/100, best_cost=17.9\u001b[A"
     ]
    },
    {
     "name": "stdout",
     "output_type": "stream",
     "text": [
      "[3.52311802 0.4246955  4.95981296 2.80164689] 18.527503967285156\n"
     ]
    },
    {
     "name": "stderr",
     "output_type": "stream",
     "text": [
      "\n",
      "pyswarms.single.global_best:  23%|██▎       |23/100, best_cost=17.9\u001b[A\n",
      "pyswarms.single.global_best:  24%|██▍       |24/100, best_cost=17.9\u001b[A"
     ]
    },
    {
     "name": "stdout",
     "output_type": "stream",
     "text": [
      "[2.89578707 0.32811511 5.22141703 2.5499074 ] 17.937294006347656\n"
     ]
    },
    {
     "name": "stderr",
     "output_type": "stream",
     "text": [
      "\n",
      "pyswarms.single.global_best:  24%|██▍       |24/100, best_cost=17.9\u001b[A\n",
      "pyswarms.single.global_best:  25%|██▌       |25/100, best_cost=17.9\u001b[A"
     ]
    },
    {
     "name": "stdout",
     "output_type": "stream",
     "text": [
      "[3.00089787 0.40156324 4.80969078 2.73491677] 17.98516082763672\n"
     ]
    },
    {
     "name": "stderr",
     "output_type": "stream",
     "text": [
      "\n",
      "pyswarms.single.global_best:  25%|██▌       |25/100, best_cost=17.9\u001b[A\n",
      "pyswarms.single.global_best:  26%|██▌       |26/100, best_cost=17.9\u001b[A"
     ]
    },
    {
     "name": "stdout",
     "output_type": "stream",
     "text": [
      "[2.46314179 0.22584089 4.88974242 2.54734173] 17.97139549255371\n"
     ]
    },
    {
     "name": "stderr",
     "output_type": "stream",
     "text": [
      "\n",
      "pyswarms.single.global_best:  26%|██▌       |26/100, best_cost=17.9\u001b[A\n",
      "pyswarms.single.global_best:  27%|██▋       |27/100, best_cost=17.9\u001b[A"
     ]
    },
    {
     "name": "stdout",
     "output_type": "stream",
     "text": [
      "[2.8372165  1.2548225  4.46239136 2.8267733 ] 18.127017974853516\n"
     ]
    },
    {
     "name": "stderr",
     "output_type": "stream",
     "text": [
      "\n",
      "pyswarms.single.global_best:  27%|██▋       |27/100, best_cost=17.9\u001b[A\n",
      "pyswarms.single.global_best:  28%|██▊       |28/100, best_cost=17.9\u001b[A"
     ]
    },
    {
     "name": "stdout",
     "output_type": "stream",
     "text": [
      "[2.54314185 0.42795654 4.69744555 2.64996827] 17.879629135131836\n"
     ]
    },
    {
     "name": "stderr",
     "output_type": "stream",
     "text": [
      "\n",
      "pyswarms.single.global_best:  28%|██▊       |28/100, best_cost=17.9\u001b[A\n",
      "pyswarms.single.global_best:  29%|██▉       |29/100, best_cost=17.9\u001b[A"
     ]
    },
    {
     "name": "stdout",
     "output_type": "stream",
     "text": [
      "[2.6402389  0.45450486 5.54407351 2.36194397] 18.222217559814453\n"
     ]
    },
    {
     "name": "stderr",
     "output_type": "stream",
     "text": [
      "\n",
      "pyswarms.single.global_best:  29%|██▉       |29/100, best_cost=17.9\u001b[A\n",
      "pyswarms.single.global_best:  30%|███       |30/100, best_cost=17.9\u001b[A"
     ]
    },
    {
     "name": "stdout",
     "output_type": "stream",
     "text": [
      "[2.82095062 0.38928953 4.78485016 2.69110962] 17.869325637817383\n"
     ]
    },
    {
     "name": "stderr",
     "output_type": "stream",
     "text": [
      "\n",
      "pyswarms.single.global_best:  30%|███       |30/100, best_cost=17.9\u001b[A\n",
      "pyswarms.single.global_best:  31%|███       |31/100, best_cost=17.9\u001b[A"
     ]
    },
    {
     "name": "stdout",
     "output_type": "stream",
     "text": [
      "[2.72312154 0.316064   4.55967932 2.77076678] 17.864469528198242\n"
     ]
    },
    {
     "name": "stderr",
     "output_type": "stream",
     "text": [
      "\n",
      "pyswarms.single.global_best:  31%|███       |31/100, best_cost=17.9\u001b[A\n",
      "pyswarms.single.global_best:  32%|███▏      |32/100, best_cost=17.9\u001b[A"
     ]
    },
    {
     "name": "stdout",
     "output_type": "stream",
     "text": [
      "[2.70005226 0.34487385 4.78773701 2.62603891] 18.054916381835938\n"
     ]
    },
    {
     "name": "stderr",
     "output_type": "stream",
     "text": [
      "\n",
      "pyswarms.single.global_best:  32%|███▏      |32/100, best_cost=17.9\u001b[A\n",
      "pyswarms.single.global_best:  33%|███▎      |33/100, best_cost=17.9\u001b[A"
     ]
    },
    {
     "name": "stdout",
     "output_type": "stream",
     "text": [
      "[2.68814195 0.31843984 4.78359152 2.67224605] 17.878231048583984\n"
     ]
    },
    {
     "name": "stderr",
     "output_type": "stream",
     "text": [
      "\n",
      "pyswarms.single.global_best:  33%|███▎      |33/100, best_cost=17.9\u001b[A\n",
      "pyswarms.single.global_best:  34%|███▍      |34/100, best_cost=17.9\u001b[A"
     ]
    },
    {
     "name": "stdout",
     "output_type": "stream",
     "text": [
      "[2.48847101 0.39511423 4.30833809 2.79666739] 18.008642196655273\n"
     ]
    },
    {
     "name": "stderr",
     "output_type": "stream",
     "text": [
      "\n",
      "pyswarms.single.global_best:  34%|███▍      |34/100, best_cost=17.9\u001b[A\n",
      "pyswarms.single.global_best:  35%|███▌      |35/100, best_cost=17.9\u001b[A"
     ]
    },
    {
     "name": "stdout",
     "output_type": "stream",
     "text": [
      "[2.77136178 0.32403707 4.63607087 2.76739186] 17.999717712402344\n"
     ]
    },
    {
     "name": "stderr",
     "output_type": "stream",
     "text": [
      "\n",
      "pyswarms.single.global_best:  35%|███▌      |35/100, best_cost=17.9\u001b[A\n",
      "pyswarms.single.global_best:  36%|███▌      |36/100, best_cost=17.9\u001b[A"
     ]
    },
    {
     "name": "stdout",
     "output_type": "stream",
     "text": [
      "[2.9867953  0.91866244 4.81318032 2.70348208] 17.995016\n"
     ]
    },
    {
     "name": "stderr",
     "output_type": "stream",
     "text": [
      "\n",
      "pyswarms.single.global_best:  36%|███▌      |36/100, best_cost=17.9\u001b[A\n",
      "pyswarms.single.global_best:  37%|███▋      |37/100, best_cost=17.9\u001b[A"
     ]
    },
    {
     "name": "stdout",
     "output_type": "stream",
     "text": [
      "[2.20901032 0.3123492  4.81994047 2.54756999] 18.018064\n"
     ]
    },
    {
     "name": "stderr",
     "output_type": "stream",
     "text": [
      "\n",
      "pyswarms.single.global_best:  37%|███▋      |37/100, best_cost=17.9\u001b[A\n",
      "pyswarms.single.global_best:  38%|███▊      |38/100, best_cost=17.9\u001b[A"
     ]
    },
    {
     "name": "stdout",
     "output_type": "stream",
     "text": [
      "[2.73811509 0.42942635 5.15725101 2.52309819] 17.926027297973633\n"
     ]
    },
    {
     "name": "stderr",
     "output_type": "stream",
     "text": [
      "\n",
      "pyswarms.single.global_best:  38%|███▊      |38/100, best_cost=17.9\u001b[A\n",
      "pyswarms.single.global_best:  39%|███▉      |39/100, best_cost=17.9\u001b[A"
     ]
    },
    {
     "name": "stdout",
     "output_type": "stream",
     "text": [
      "[2.73806702 0.44445736 4.8902487  2.62862448] 17.869232177734375\n"
     ]
    },
    {
     "name": "stderr",
     "output_type": "stream",
     "text": [
      "\n",
      "pyswarms.single.global_best:  39%|███▉      |39/100, best_cost=17.9\u001b[A\n",
      "pyswarms.single.global_best:  40%|████      |40/100, best_cost=17.9\u001b[A"
     ]
    },
    {
     "name": "stdout",
     "output_type": "stream",
     "text": [
      "[2.75533398 0.38210825 4.83855135 2.65851209] 17.868999481201172\n"
     ]
    },
    {
     "name": "stderr",
     "output_type": "stream",
     "text": [
      "\n",
      "pyswarms.single.global_best:  40%|████      |40/100, best_cost=17.9\u001b[A\n",
      "pyswarms.single.global_best:  41%|████      |41/100, best_cost=17.9\u001b[A"
     ]
    },
    {
     "name": "stdout",
     "output_type": "stream",
     "text": [
      "[2.69712492 0.36509184 4.83443747 2.6386683 ] 17.856670379638672\n"
     ]
    },
    {
     "name": "stderr",
     "output_type": "stream",
     "text": [
      "\n",
      "pyswarms.single.global_best:  41%|████      |41/100, best_cost=17.9\u001b[A\n",
      "pyswarms.single.global_best:  42%|████▏     |42/100, best_cost=17.9\u001b[A"
     ]
    },
    {
     "name": "stdout",
     "output_type": "stream",
     "text": [
      "[2.64473676 0.34977706 4.83073498 2.62080888] 17.873531341552734\n"
     ]
    },
    {
     "name": "stderr",
     "output_type": "stream",
     "text": [
      "\n",
      "pyswarms.single.global_best:  42%|████▏     |42/100, best_cost=17.9\u001b[A\n",
      "pyswarms.single.global_best:  43%|████▎     |43/100, best_cost=17.9\u001b[A"
     ]
    },
    {
     "name": "stdout",
     "output_type": "stream",
     "text": [
      "[2.81888369 0.66058435 4.85075969 2.65654632] 17.90725326538086\n"
     ]
    },
    {
     "name": "stderr",
     "output_type": "stream",
     "text": [
      "\n",
      "pyswarms.single.global_best:  43%|████▎     |43/100, best_cost=17.9\u001b[A\n",
      "pyswarms.single.global_best:  44%|████▍     |44/100, best_cost=17.9\u001b[A"
     ]
    },
    {
     "name": "stdout",
     "output_type": "stream",
     "text": [
      "[2.65292927 0.34503832 4.82973856 2.61600546] 17.90825653076172\n"
     ]
    },
    {
     "name": "stderr",
     "output_type": "stream",
     "text": [
      "\n",
      "pyswarms.single.global_best:  44%|████▍     |44/100, best_cost=17.9\u001b[A\n",
      "pyswarms.single.global_best:  45%|████▌     |45/100, best_cost=17.9\u001b[A"
     ]
    },
    {
     "name": "stdout",
     "output_type": "stream",
     "text": [
      "[2.70426808 0.3462557  4.83114072 2.63811885] 17.86147117614746\n"
     ]
    },
    {
     "name": "stderr",
     "output_type": "stream",
     "text": [
      "\n",
      "pyswarms.single.global_best:  45%|████▌     |45/100, best_cost=17.9\u001b[A\n",
      "pyswarms.single.global_best:  46%|████▌     |46/100, best_cost=17.9\u001b[A"
     ]
    },
    {
     "name": "stdout",
     "output_type": "stream",
     "text": [
      "[2.7489064  0.35388813 4.83368612 2.65834303] 17.864749908447266\n"
     ]
    },
    {
     "name": "stderr",
     "output_type": "stream",
     "text": [
      "\n",
      "pyswarms.single.global_best:  46%|████▌     |46/100, best_cost=17.9\u001b[A\n",
      "pyswarms.single.global_best:  47%|████▋     |47/100, best_cost=17.9\u001b[A"
     ]
    },
    {
     "name": "stdout",
     "output_type": "stream",
     "text": [
      "[2.7749267  0.36589203 4.83629095 2.67514771] 17.92366600036621\n"
     ]
    },
    {
     "name": "stderr",
     "output_type": "stream",
     "text": [
      "\n",
      "pyswarms.single.global_best:  47%|████▋     |47/100, best_cost=17.9\u001b[A\n",
      "pyswarms.single.global_best:  48%|████▊     |48/100, best_cost=17.9\u001b[A"
     ]
    },
    {
     "name": "stdout",
     "output_type": "stream",
     "text": [
      "[2.73401382 0.52253685 4.82331054 2.65044   ] 17.873535\n"
     ]
    },
    {
     "name": "stderr",
     "output_type": "stream",
     "text": [
      "\n",
      "pyswarms.single.global_best:  48%|████▊     |48/100, best_cost=17.9\u001b[A\n",
      "pyswarms.single.global_best:  49%|████▉     |49/100, best_cost=17.9\u001b[A"
     ]
    },
    {
     "name": "stdout",
     "output_type": "stream",
     "text": [
      "[2.72903937 0.38004279 4.83800692 2.65323001] 17.86703872680664\n"
     ]
    },
    {
     "name": "stderr",
     "output_type": "stream",
     "text": [
      "\n",
      "pyswarms.single.global_best:  49%|████▉     |49/100, best_cost=17.9\u001b[A\n",
      "pyswarms.single.global_best:  50%|█████     |50/100, best_cost=17.9\u001b[A"
     ]
    },
    {
     "name": "stdout",
     "output_type": "stream",
     "text": [
      "[2.69040886 0.37661195 4.83691363 2.63277044] 17.862329483032227\n"
     ]
    },
    {
     "name": "stderr",
     "output_type": "stream",
     "text": [
      "\n",
      "pyswarms.single.global_best:  50%|█████     |50/100, best_cost=17.9\u001b[A\n",
      "pyswarms.single.global_best:  51%|█████     |51/100, best_cost=17.9\u001b[A"
     ]
    },
    {
     "name": "stdout",
     "output_type": "stream",
     "text": [
      "[2.65732087 0.37148126 4.83509842 2.61561448] 17.90422248840332\n"
     ]
    }
   ],
   "source": [
    "bounds = ([0.05, 0.01, 3.0, 1.0], \n",
    "          [5.0, 2.0, 20.0, 3.0])\n",
    "steps = 25\n",
    "time_delay = 1\n",
    "n_particles = 100\n",
    "dims = len(bounds[0])\n",
    "pos = [4.85268593, 0.20277379, 10.74862475, 1.96296894]\n",
    "options = {'c1': 0.5, 'c2': 0.3, 'w': 0.9, 'k': 3, 'p': 2}\n",
    "init_pos = np.random.uniform(low=bounds[0], high=bounds[1], size=(n_particles, dims))\n",
    "init_pos[0] = pos\n",
    "optimizer = GlobalBestPSO(n_particles=n_particles, dimensions=dims, options=options, bounds=bounds, init_pos=init_pos)\n",
    "#optimizer = LocalBestPSO(n_particles=n_particles, dimensions=dims, options=options, bounds=bounds)\n",
    "cost, pos = optimizer.optimize(loss, 100, steps=steps, time_delay=time_delay)"
   ]
  },
  {
   "cell_type": "code",
   "execution_count": 45,
   "metadata": {
    "scrolled": true
   },
   "outputs": [
    {
     "name": "stdout",
     "output_type": "stream",
     "text": [
      "[ 4.85268593  0.20277379 10.74862475  1.96296894]\n"
     ]
    },
    {
     "data": {
      "image/png": "[encoded data removed]",
      "text/plain": [
       "<Figure size 432x288 with 1 Axes>"
      ]
     },
     "metadata": {
      "needs_background": "light"
     },
     "output_type": "display_data"
    },
    {
     "name": "stderr",
     "output_type": "stream",
     "text": [
      "/Users/bastian/miniconda3/envs/ml/lib/python3.8/site-packages/gym/logger.py:30: UserWarning: \u001b[33mWARN: Box bound precision lowered by casting to float32\u001b[0m\n",
      "  warnings.warn(colorize('%s: %s'%('WARN', msg % args), 'yellow'))\n",
      "/Users/bastian/miniconda3/envs/ml/lib/python3.8/site-packages/gym/logger.py:30: UserWarning: \u001b[33mWARN: Box bound precision lowered by casting to float32\u001b[0m\n",
      "  warnings.warn(colorize('%s: %s'%('WARN', msg % args), 'yellow'))\n"
     ]
    },
    {
     "name": "stdout",
     "output_type": "stream",
     "text": [
      "2.1629453\n"
     ]
    },
    {
     "data": {
      "image/png": "[encoded data removed]",
      "text/plain": [
       "<Figure size 432x288 with 1 Axes>"
      ]
     },
     "metadata": {
      "needs_background": "light"
     },
     "output_type": "display_data"
    }
   ],
   "source": [
    "print(pos)\n",
    "s = fun(pos)\n",
    "\n",
    "plt.figure()\n",
    "a, = plt.plot(states[:,0], label='Real data')\n",
    "b, = plt.plot(s[:,0], label='Simulation')\n",
    "plt.xlabel('Time steps')\n",
    "plt.ylabel('Position')\n",
    "plt.legend(handles=[a,b])\n",
    "tikzplotlib.save(\"cartfit.tex\")\n",
    "plt.show()\n",
    "\n",
    "plt.figure()\n",
    "plt.plot(loss_(pos))\n",
    "print(np.sum(loss_(pos)))"
   ]
  },
  {
   "cell_type": "code",
   "execution_count": 40,
   "metadata": {},
   "outputs": [
    {
     "name": "stdout",
     "output_type": "stream",
     "text": [
      "0 0.014405245\n",
      "1 0.014163173\n",
      "2 0.013955775\n",
      "3 0.013782156\n",
      "4 0.013639675\n",
      "5 0.01352463\n",
      "6 0.0134330075\n",
      "7 0.013361254\n",
      "8 0.013306628\n",
      "9 0.013267354\n",
      "10 0.01324249\n",
      "11 0.013231607\n",
      "12 0.013234395\n",
      "13 0.013250176\n",
      "14 0.013277588\n",
      "15 0.013314582\n",
      "16 0.013358553\n",
      "17 0.013406734\n",
      "18 0.013456626\n",
      "19 0.013506361\n"
     ]
    }
   ],
   "source": [
    "pos = [3.35711521, 0.38367182, 19.35720545, 1.49591271, 0]\n",
    "for i in range(20):\n",
    "    pos[-1] = i\n",
    "    print(i, np.mean(loss_(pos, steps=100)))"
   ]
  },
  {
   "cell_type": "code",
   "execution_count": 21,
   "metadata": {},
   "outputs": [],
   "source": [
    "time_delay = 0\n",
    "best_cost =  17.854625701904297\n",
    "best_pos = [2.20871964, 0.52280259, 4.37161942, 2.69738758]\n",
    "\n",
    "time_delay = 2\n",
    "best_cost = 18.811220169067383\n",
    "best_pos = [4.33691465, 0.30320143, 9.49224389, 1.99245442]\n",
    "\n",
    "time_delay = 3\n",
    "best_cost = 17.915111541748047\n",
    "best_pos = [4.47010895, 0.13583217, 5.66745458, 2.70516804]\n",
    "\n",
    "time_delay = 4\n",
    "best_cost = 18.30472755432129\n",
    "best_pos = [4.89254444, 0.14797265, 6.14088383, 2.64498657]\n",
    "\n",
    "time_delay = 5\n",
    "best_cost = 20.5646915435791\n",
    "best_pos = [4.88591992, 0.14972133, 13.29892665, 1.80442062]"
   ]
  },
  {
   "cell_type": "code",
   "execution_count": null,
   "metadata": {},
   "outputs": [],
   "source": []
  }
 ],
 "metadata": {
  "kernelspec": {
   "display_name": "Python 3",
   "language": "python",
   "name": "python3"
  },
  "language_info": {
   "codemirror_mode": {
    "name": "ipython",
    "version": 3
   },
   "file_extension": ".py",
   "mimetype": "text/x-python",
   "name": "python",
   "nbconvert_exporter": "python",
   "pygments_lexer": "ipython3",
   "version": "3.8.2"
  }
 },
 "nbformat": 4,
 "nbformat_minor": 4
}
