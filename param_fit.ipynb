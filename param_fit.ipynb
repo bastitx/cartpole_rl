{
 "cells": [
  {
   "cell_type": "code",
   "execution_count": 1,
   "metadata": {},
   "outputs": [],
   "source": [
    "import numpy as np\n",
    "import torch\n",
    "from scipy import optimize\n",
    "from sim.cartpole_dc import CartPoleEnv\n",
    "import csv\n",
    "from pyswarms.single.global_best import GlobalBestPSO\n",
    "from matplotlib import pyplot as plt\n",
    "%load_ext autoreload\n",
    "%autoreload 2"
   ]
  },
  {
   "cell_type": "code",
   "execution_count": 2,
   "metadata": {},
   "outputs": [],
   "source": [
    "import tikzplotlib\n",
    "from util.io import read_data"
   ]
  },
  {
   "cell_type": "code",
   "execution_count": 3,
   "metadata": {},
   "outputs": [
    {
     "name": "stdout",
     "output_type": "stream",
     "text": [
      "torch.Size([24570, 4]) torch.Size([24570, 1])\n"
     ]
    }
   ],
   "source": [
    "states, actions = read_data('data.csv')\n",
    "states = torch.tensor(states).detach()\n",
    "actions = - torch.tensor([actions]).T.detach()\n",
    "print(states.shape, actions.shape)"
   ]
  },
  {
   "cell_type": "code",
   "execution_count": 4,
   "metadata": {},
   "outputs": [],
   "source": [
    "def fun(theta, render=False, steps=50):\n",
    "    env = CartPoleEnv(swingup=True, solver='rk')\n",
    "    env.mu_cart = theta[0]\n",
    "    env.Psi = theta[1]\n",
    "    env.L = theta[2]\n",
    "    env.J = theta[3]\n",
    "    env.reset()\n",
    "    env.state = states[:len(states)-steps]\n",
    "    env.i = torch.zeros(len(states)-steps)\n",
    "    for j in range(steps-1):\n",
    "        env.step(actions[j:len(states)-(steps-j)])\n",
    "    s, *_ = env.step(actions[steps-1:len(states)-1])\n",
    "    s = s.numpy()\n",
    "    env.close()\n",
    "    return s"
   ]
  },
  {
   "cell_type": "code",
   "execution_count": 9,
   "metadata": {},
   "outputs": [],
   "source": [
    "def loss_(theta):\n",
    "    s = fun(theta)\n",
    "    if (s != s).any():\n",
    "        print('nan')\n",
    "        return [np.inf]\n",
    "    delta_phi = (states[50:,2] - s[:,2]) % (2 * np.pi)\n",
    "    delta_phi = np.minimum(delta_phi, 2*np.pi - delta_phi)**2\n",
    "    return (0.0 * delta_phi + (states[50:,0] - s[:,0])**2).numpy()\n",
    "\n",
    "def loss(theta):\n",
    "    losses = []\n",
    "    for t in theta:\n",
    "        losses += [np.sum(loss_(t))]\n",
    "    return losses\n"
   ]
  },
  {
   "cell_type": "code",
   "execution_count": 11,
   "metadata": {
    "scrolled": true
   },
   "outputs": [
    {
     "name": "stderr",
     "output_type": "stream",
     "text": [
      "2020-04-21 01:12:04,146 - pyswarms.single.global_best - INFO - Optimize for 100 iters with {'c1': 0.7, 'c2': 0.1, 'w': 0.9}\n",
      "\n",
      "\n",
      "pyswarms.single.global_best:   0%|          |0/100\u001b[A\u001b[A"
     ]
    },
    {
     "name": "stdout",
     "output_type": "stream",
     "text": [
      "nan\n"
     ]
    },
    {
     "name": "stderr",
     "output_type": "stream",
     "text": [
      "\n",
      "\n",
      "pyswarms.single.global_best:   0%|          |0/100, best_cost=55.3\u001b[A\u001b[A\n",
      "\n",
      "pyswarms.single.global_best:   1%|          |1/100, best_cost=55.3\u001b[A\u001b[A"
     ]
    },
    {
     "name": "stdout",
     "output_type": "stream",
     "text": [
      "nan\n"
     ]
    },
    {
     "name": "stderr",
     "output_type": "stream",
     "text": [
      "\n",
      "\n",
      "pyswarms.single.global_best:   1%|          |1/100, best_cost=54.2\u001b[A\u001b[A\n",
      "\n",
      "pyswarms.single.global_best:   2%|▏         |2/100, best_cost=54.2\u001b[A\u001b[A"
     ]
    },
    {
     "name": "stdout",
     "output_type": "stream",
     "text": [
      "nan\n",
      "nan\n"
     ]
    },
    {
     "name": "stderr",
     "output_type": "stream",
     "text": [
      "\n",
      "\n",
      "pyswarms.single.global_best:   2%|▏         |2/100, best_cost=54.2\u001b[A\u001b[A\n",
      "\n",
      "pyswarms.single.global_best:   3%|▎         |3/100, best_cost=54.2\u001b[A\u001b[A\n",
      "\n",
      "pyswarms.single.global_best:   3%|▎         |3/100, best_cost=54.2\u001b[A\u001b[A\n",
      "\n",
      "pyswarms.single.global_best:   4%|▍         |4/100, best_cost=54.2\u001b[A\u001b[A\n",
      "\n",
      "pyswarms.single.global_best:   4%|▍         |4/100, best_cost=54.2\u001b[A\u001b[A\n",
      "\n",
      "pyswarms.single.global_best:   5%|▌         |5/100, best_cost=54.2\u001b[A\u001b[A\n",
      "\n",
      "pyswarms.single.global_best:   5%|▌         |5/100, best_cost=54.2\u001b[A\u001b[A\n",
      "\n",
      "pyswarms.single.global_best:   6%|▌         |6/100, best_cost=54.2\u001b[A\u001b[A"
     ]
    },
    {
     "name": "stdout",
     "output_type": "stream",
     "text": [
      "nan\n"
     ]
    },
    {
     "name": "stderr",
     "output_type": "stream",
     "text": [
      "\n",
      "\n",
      "pyswarms.single.global_best:   6%|▌         |6/100, best_cost=54.2\u001b[A\u001b[A\n",
      "\n",
      "pyswarms.single.global_best:   7%|▋         |7/100, best_cost=54.2\u001b[A\u001b[A\n",
      "\n",
      "pyswarms.single.global_best:   7%|▋         |7/100, best_cost=54.2\u001b[A\u001b[A\n",
      "\n",
      "pyswarms.single.global_best:   8%|▊         |8/100, best_cost=54.2\u001b[A\u001b[A"
     ]
    },
    {
     "name": "stdout",
     "output_type": "stream",
     "text": [
      "nan\n"
     ]
    },
    {
     "name": "stderr",
     "output_type": "stream",
     "text": [
      "\n",
      "\n",
      "pyswarms.single.global_best:   8%|▊         |8/100, best_cost=54.2\u001b[A\u001b[A\n",
      "\n",
      "pyswarms.single.global_best:   9%|▉         |9/100, best_cost=54.2\u001b[A\u001b[A"
     ]
    },
    {
     "name": "stdout",
     "output_type": "stream",
     "text": [
      "nan\n",
      "nan\n",
      "nan\n"
     ]
    },
    {
     "name": "stderr",
     "output_type": "stream",
     "text": [
      "\n",
      "\n",
      "pyswarms.single.global_best:   9%|▉         |9/100, best_cost=54.2\u001b[A\u001b[A\n",
      "\n",
      "pyswarms.single.global_best:  10%|█         |10/100, best_cost=54.2\u001b[A\u001b[A"
     ]
    },
    {
     "name": "stdout",
     "output_type": "stream",
     "text": [
      "nan\n"
     ]
    },
    {
     "name": "stderr",
     "output_type": "stream",
     "text": [
      "\n",
      "\n",
      "pyswarms.single.global_best:  10%|█         |10/100, best_cost=54.2\u001b[A\u001b[A\n",
      "\n",
      "pyswarms.single.global_best:  11%|█         |11/100, best_cost=54.2\u001b[A\u001b[A"
     ]
    },
    {
     "name": "stdout",
     "output_type": "stream",
     "text": [
      "nan\n"
     ]
    },
    {
     "name": "stderr",
     "output_type": "stream",
     "text": [
      "\n",
      "\n",
      "pyswarms.single.global_best:  11%|█         |11/100, best_cost=54.2\u001b[A\u001b[A\n",
      "\n",
      "pyswarms.single.global_best:  12%|█▏        |12/100, best_cost=54.2\u001b[A\u001b[A"
     ]
    },
    {
     "name": "stdout",
     "output_type": "stream",
     "text": [
      "nan\n",
      "nan\n"
     ]
    },
    {
     "name": "stderr",
     "output_type": "stream",
     "text": [
      "\n",
      "\n",
      "pyswarms.single.global_best:  12%|█▏        |12/100, best_cost=51  \u001b[A\u001b[A\n",
      "\n",
      "pyswarms.single.global_best:  13%|█▎        |13/100, best_cost=51\u001b[A\u001b[A"
     ]
    },
    {
     "name": "stdout",
     "output_type": "stream",
     "text": [
      "nan\n"
     ]
    },
    {
     "name": "stderr",
     "output_type": "stream",
     "text": [
      "\n",
      "\n",
      "pyswarms.single.global_best:  13%|█▎        |13/100, best_cost=51\u001b[A\u001b[A\n",
      "\n",
      "pyswarms.single.global_best:  14%|█▍        |14/100, best_cost=51\u001b[A\u001b[A"
     ]
    },
    {
     "name": "stdout",
     "output_type": "stream",
     "text": [
      "nan\n"
     ]
    },
    {
     "name": "stderr",
     "output_type": "stream",
     "text": [
      "\n",
      "\n",
      "pyswarms.single.global_best:  14%|█▍        |14/100, best_cost=51\u001b[A\u001b[A\n",
      "\n",
      "pyswarms.single.global_best:  15%|█▌        |15/100, best_cost=51\u001b[A\u001b[A"
     ]
    },
    {
     "name": "stdout",
     "output_type": "stream",
     "text": [
      "nan\n",
      "nan\n"
     ]
    },
    {
     "name": "stderr",
     "output_type": "stream",
     "text": [
      "\n",
      "\n",
      "pyswarms.single.global_best:  15%|█▌        |15/100, best_cost=51\u001b[A\u001b[A\n",
      "\n",
      "pyswarms.single.global_best:  16%|█▌        |16/100, best_cost=51\u001b[A\u001b[A\n",
      "\n",
      "pyswarms.single.global_best:  16%|█▌        |16/100, best_cost=51\u001b[A\u001b[A\n",
      "\n",
      "pyswarms.single.global_best:  17%|█▋        |17/100, best_cost=51\u001b[A\u001b[A\n",
      "\n",
      "pyswarms.single.global_best:  17%|█▋        |17/100, best_cost=51\u001b[A\u001b[A\n",
      "\n",
      "pyswarms.single.global_best:  18%|█▊        |18/100, best_cost=51\u001b[A\u001b[A"
     ]
    },
    {
     "name": "stdout",
     "output_type": "stream",
     "text": [
      "nan\n"
     ]
    },
    {
     "name": "stderr",
     "output_type": "stream",
     "text": [
      "\n",
      "\n",
      "pyswarms.single.global_best:  18%|█▊        |18/100, best_cost=51\u001b[A\u001b[A\n",
      "\n",
      "pyswarms.single.global_best:  19%|█▉        |19/100, best_cost=51\u001b[A\u001b[A\n",
      "\n",
      "pyswarms.single.global_best:  19%|█▉        |19/100, best_cost=50.5\u001b[A\u001b[A\n",
      "\n",
      "pyswarms.single.global_best:  20%|██        |20/100, best_cost=50.5\u001b[A\u001b[A\n",
      "\n",
      "pyswarms.single.global_best:  20%|██        |20/100, best_cost=50.5\u001b[A\u001b[A\n",
      "\n",
      "pyswarms.single.global_best:  21%|██        |21/100, best_cost=50.5\u001b[A\u001b[A"
     ]
    },
    {
     "name": "stdout",
     "output_type": "stream",
     "text": [
      "nan\n"
     ]
    },
    {
     "name": "stderr",
     "output_type": "stream",
     "text": [
      "\n",
      "\n",
      "pyswarms.single.global_best:  21%|██        |21/100, best_cost=50.5\u001b[A\u001b[A\n",
      "\n",
      "pyswarms.single.global_best:  22%|██▏       |22/100, best_cost=50.5\u001b[A\u001b[A\n",
      "\n",
      "pyswarms.single.global_best:  22%|██▏       |22/100, best_cost=50.5\u001b[A\u001b[A\n",
      "\n",
      "pyswarms.single.global_best:  23%|██▎       |23/100, best_cost=50.5\u001b[A\u001b[A\n",
      "\n",
      "pyswarms.single.global_best:  23%|██▎       |23/100, best_cost=50.5\u001b[A\u001b[A\n",
      "\n",
      "pyswarms.single.global_best:  24%|██▍       |24/100, best_cost=50.5\u001b[A\u001b[A"
     ]
    },
    {
     "name": "stdout",
     "output_type": "stream",
     "text": [
      "nan\n"
     ]
    },
    {
     "name": "stderr",
     "output_type": "stream",
     "text": [
      "\n",
      "\n",
      "pyswarms.single.global_best:  24%|██▍       |24/100, best_cost=50.5\u001b[A\u001b[A\n",
      "\n",
      "pyswarms.single.global_best:  25%|██▌       |25/100, best_cost=50.5\u001b[A\u001b[A"
     ]
    },
    {
     "name": "stdout",
     "output_type": "stream",
     "text": [
      "nan\n"
     ]
    },
    {
     "name": "stderr",
     "output_type": "stream",
     "text": [
      "\n",
      "\n",
      "pyswarms.single.global_best:  25%|██▌       |25/100, best_cost=50.5\u001b[A\u001b[A\n",
      "\n",
      "pyswarms.single.global_best:  26%|██▌       |26/100, best_cost=50.5\u001b[A\u001b[A\n",
      "\n",
      "pyswarms.single.global_best:  26%|██▌       |26/100, best_cost=50.5\u001b[A\u001b[A\n",
      "\n",
      "pyswarms.single.global_best:  27%|██▋       |27/100, best_cost=50.5\u001b[A\u001b[A"
     ]
    },
    {
     "name": "stdout",
     "output_type": "stream",
     "text": [
      "nan\n",
      "nan\n"
     ]
    },
    {
     "name": "stderr",
     "output_type": "stream",
     "text": [
      "\n",
      "\n",
      "pyswarms.single.global_best:  27%|██▋       |27/100, best_cost=50.5\u001b[A\u001b[A\n",
      "\n",
      "pyswarms.single.global_best:  28%|██▊       |28/100, best_cost=50.5\u001b[A\u001b[A\n",
      "\n",
      "pyswarms.single.global_best:  28%|██▊       |28/100, best_cost=50.5\u001b[A\u001b[A\n",
      "\n",
      "pyswarms.single.global_best:  29%|██▉       |29/100, best_cost=50.5\u001b[A\u001b[A"
     ]
    },
    {
     "name": "stdout",
     "output_type": "stream",
     "text": [
      "nan\n"
     ]
    },
    {
     "name": "stderr",
     "output_type": "stream",
     "text": [
      "\n",
      "\n",
      "pyswarms.single.global_best:  29%|██▉       |29/100, best_cost=50.5\u001b[A\u001b[A\n",
      "\n",
      "pyswarms.single.global_best:  30%|███       |30/100, best_cost=50.5\u001b[A\u001b[A"
     ]
    },
    {
     "name": "stdout",
     "output_type": "stream",
     "text": [
      "nan\n"
     ]
    },
    {
     "name": "stderr",
     "output_type": "stream",
     "text": [
      "\n",
      "\n",
      "pyswarms.single.global_best:  30%|███       |30/100, best_cost=50.5\u001b[A\u001b[A\n",
      "\n",
      "pyswarms.single.global_best:  31%|███       |31/100, best_cost=50.5\u001b[A\u001b[A\n",
      "\n",
      "pyswarms.single.global_best:  31%|███       |31/100, best_cost=50.5\u001b[A\u001b[A\n",
      "\n",
      "pyswarms.single.global_best:  32%|███▏      |32/100, best_cost=50.5\u001b[A\u001b[A\n",
      "\n",
      "pyswarms.single.global_best:  32%|███▏      |32/100, best_cost=50.5\u001b[A\u001b[A\n",
      "\n",
      "pyswarms.single.global_best:  33%|███▎      |33/100, best_cost=50.5\u001b[A\u001b[A"
     ]
    },
    {
     "name": "stdout",
     "output_type": "stream",
     "text": [
      "nan\n"
     ]
    },
    {
     "name": "stderr",
     "output_type": "stream",
     "text": [
      "\n",
      "\n",
      "pyswarms.single.global_best:  33%|███▎      |33/100, best_cost=50.5\u001b[A\u001b[A\n",
      "\n",
      "pyswarms.single.global_best:  34%|███▍      |34/100, best_cost=50.5\u001b[A\u001b[A\n",
      "\n",
      "pyswarms.single.global_best:  34%|███▍      |34/100, best_cost=50.5\u001b[A\u001b[A\n",
      "\n",
      "pyswarms.single.global_best:  35%|███▌      |35/100, best_cost=50.5\u001b[A\u001b[A\n",
      "\n",
      "pyswarms.single.global_best:  35%|███▌      |35/100, best_cost=50.5\u001b[A\u001b[A\n",
      "\n",
      "pyswarms.single.global_best:  36%|███▌      |36/100, best_cost=50.5\u001b[A\u001b[A\n",
      "\n",
      "pyswarms.single.global_best:  36%|███▌      |36/100, best_cost=50.5\u001b[A\u001b[A\n",
      "\n",
      "pyswarms.single.global_best:  37%|███▋      |37/100, best_cost=50.5\u001b[A\u001b[A\n",
      "\n",
      "pyswarms.single.global_best:  37%|███▋      |37/100, best_cost=50.5\u001b[A\u001b[A\n",
      "\n",
      "pyswarms.single.global_best:  38%|███▊      |38/100, best_cost=50.5\u001b[A\u001b[A"
     ]
    },
    {
     "name": "stdout",
     "output_type": "stream",
     "text": [
      "nan\n"
     ]
    },
    {
     "name": "stderr",
     "output_type": "stream",
     "text": [
      "\n",
      "\n",
      "pyswarms.single.global_best:  38%|███▊      |38/100, best_cost=50.1\u001b[A\u001b[A\n",
      "\n",
      "pyswarms.single.global_best:  39%|███▉      |39/100, best_cost=50.1\u001b[A\u001b[A\n",
      "\n",
      "pyswarms.single.global_best:  39%|███▉      |39/100, best_cost=50.1\u001b[A\u001b[A\n",
      "\n",
      "pyswarms.single.global_best:  40%|████      |40/100, best_cost=50.1\u001b[A\u001b[A\n",
      "\n",
      "pyswarms.single.global_best:  40%|████      |40/100, best_cost=50.1\u001b[A\u001b[A\n",
      "\n",
      "pyswarms.single.global_best:  41%|████      |41/100, best_cost=50.1\u001b[A\u001b[A\n",
      "\n",
      "pyswarms.single.global_best:  41%|████      |41/100, best_cost=50.1\u001b[A\u001b[A\n",
      "\n",
      "pyswarms.single.global_best:  42%|████▏     |42/100, best_cost=50.1\u001b[A\u001b[A\n",
      "\n",
      "pyswarms.single.global_best:  42%|████▏     |42/100, best_cost=50.1\u001b[A\u001b[A\n",
      "\n",
      "pyswarms.single.global_best:  43%|████▎     |43/100, best_cost=50.1\u001b[A\u001b[A\n",
      "\n",
      "pyswarms.single.global_best:  43%|████▎     |43/100, best_cost=50.1\u001b[A\u001b[A\n",
      "\n",
      "pyswarms.single.global_best:  44%|████▍     |44/100, best_cost=50.1\u001b[A\u001b[A\n",
      "\n",
      "pyswarms.single.global_best:  44%|████▍     |44/100, best_cost=50.1\u001b[A\u001b[A\n",
      "\n",
      "pyswarms.single.global_best:  45%|████▌     |45/100, best_cost=50.1\u001b[A\u001b[A\n",
      "\n",
      "pyswarms.single.global_best:  45%|████▌     |45/100, best_cost=50.1\u001b[A\u001b[A\n",
      "\n",
      "pyswarms.single.global_best:  46%|████▌     |46/100, best_cost=50.1\u001b[A\u001b[A"
     ]
    },
    {
     "name": "stdout",
     "output_type": "stream",
     "text": [
      "nan\n"
     ]
    },
    {
     "name": "stderr",
     "output_type": "stream",
     "text": [
      "\n",
      "\n",
      "pyswarms.single.global_best:  46%|████▌     |46/100, best_cost=50.1\u001b[A\u001b[A\n",
      "\n",
      "pyswarms.single.global_best:  47%|████▋     |47/100, best_cost=50.1\u001b[A\u001b[A\n",
      "\n",
      "pyswarms.single.global_best:  47%|████▋     |47/100, best_cost=50.1\u001b[A\u001b[A\n",
      "\n",
      "pyswarms.single.global_best:  48%|████▊     |48/100, best_cost=50.1\u001b[A\u001b[A\n",
      "\n",
      "pyswarms.single.global_best:  48%|████▊     |48/100, best_cost=50.1\u001b[A\u001b[A\n",
      "\n",
      "pyswarms.single.global_best:  49%|████▉     |49/100, best_cost=50.1\u001b[A\u001b[A\n",
      "\n",
      "pyswarms.single.global_best:  49%|████▉     |49/100, best_cost=50.1\u001b[A\u001b[A\n",
      "\n",
      "pyswarms.single.global_best:  50%|█████     |50/100, best_cost=50.1\u001b[A\u001b[A\n",
      "\n",
      "pyswarms.single.global_best:  50%|█████     |50/100, best_cost=50.1\u001b[A\u001b[A\n",
      "\n",
      "pyswarms.single.global_best:  51%|█████     |51/100, best_cost=50.1\u001b[A\u001b[A\n",
      "\n",
      "pyswarms.single.global_best:  51%|█████     |51/100, best_cost=50.1\u001b[A\u001b[A\n",
      "\n",
      "pyswarms.single.global_best:  52%|█████▏    |52/100, best_cost=50.1\u001b[A\u001b[A\n",
      "\n",
      "pyswarms.single.global_best:  52%|█████▏    |52/100, best_cost=50.1\u001b[A\u001b[A\n",
      "\n",
      "pyswarms.single.global_best:  53%|█████▎    |53/100, best_cost=50.1\u001b[A\u001b[A\n",
      "\n",
      "pyswarms.single.global_best:  53%|█████▎    |53/100, best_cost=50.1\u001b[A\u001b[A\n",
      "\n",
      "pyswarms.single.global_best:  54%|█████▍    |54/100, best_cost=50.1\u001b[A\u001b[A\n",
      "\n",
      "pyswarms.single.global_best:  54%|█████▍    |54/100, best_cost=50.1\u001b[A\u001b[A\n",
      "\n",
      "pyswarms.single.global_best:  55%|█████▌    |55/100, best_cost=50.1\u001b[A\u001b[A\n",
      "\n",
      "pyswarms.single.global_best:  55%|█████▌    |55/100, best_cost=50.1\u001b[A\u001b[A\n",
      "\n",
      "pyswarms.single.global_best:  56%|█████▌    |56/100, best_cost=50.1\u001b[A\u001b[A\n",
      "\n",
      "pyswarms.single.global_best:  56%|█████▌    |56/100, best_cost=50.1\u001b[A\u001b[A\n",
      "\n",
      "pyswarms.single.global_best:  57%|█████▋    |57/100, best_cost=50.1\u001b[A\u001b[A\n",
      "\n",
      "pyswarms.single.global_best:  57%|█████▋    |57/100, best_cost=50.1\u001b[A\u001b[A\n",
      "\n",
      "pyswarms.single.global_best:  58%|█████▊    |58/100, best_cost=50.1\u001b[A\u001b[A\n",
      "\n",
      "pyswarms.single.global_best:  58%|█████▊    |58/100, best_cost=50.1\u001b[A\u001b[A\n",
      "\n",
      "pyswarms.single.global_best:  59%|█████▉    |59/100, best_cost=50.1\u001b[A\u001b[A\n",
      "\n",
      "pyswarms.single.global_best:  59%|█████▉    |59/100, best_cost=50.1\u001b[A\u001b[A\n",
      "\n",
      "pyswarms.single.global_best:  60%|██████    |60/100, best_cost=50.1\u001b[A\u001b[A\n",
      "\n",
      "pyswarms.single.global_best:  60%|██████    |60/100, best_cost=50.1\u001b[A\u001b[A\n",
      "\n",
      "pyswarms.single.global_best:  61%|██████    |61/100, best_cost=50.1\u001b[A\u001b[A"
     ]
    },
    {
     "name": "stdout",
     "output_type": "stream",
     "text": [
      "nan\n"
     ]
    },
    {
     "name": "stderr",
     "output_type": "stream",
     "text": [
      "\n",
      "\n",
      "pyswarms.single.global_best:  61%|██████    |61/100, best_cost=50.1\u001b[A\u001b[A\n",
      "\n",
      "pyswarms.single.global_best:  62%|██████▏   |62/100, best_cost=50.1\u001b[A\u001b[A\n",
      "\n",
      "pyswarms.single.global_best:  62%|██████▏   |62/100, best_cost=50.1\u001b[A\u001b[A\n",
      "\n",
      "pyswarms.single.global_best:  63%|██████▎   |63/100, best_cost=50.1\u001b[A\u001b[A\n",
      "\n",
      "pyswarms.single.global_best:  63%|██████▎   |63/100, best_cost=50.1\u001b[A\u001b[A\n",
      "\n",
      "pyswarms.single.global_best:  64%|██████▍   |64/100, best_cost=50.1\u001b[A\u001b[A\n",
      "\n",
      "pyswarms.single.global_best:  64%|██████▍   |64/100, best_cost=50.1\u001b[A\u001b[A\n",
      "\n",
      "pyswarms.single.global_best:  65%|██████▌   |65/100, best_cost=50.1\u001b[A\u001b[A\n",
      "\n",
      "pyswarms.single.global_best:  65%|██████▌   |65/100, best_cost=50.1\u001b[A\u001b[A\n",
      "\n",
      "pyswarms.single.global_best:  66%|██████▌   |66/100, best_cost=50.1\u001b[A\u001b[A\n",
      "\n",
      "pyswarms.single.global_best:  66%|██████▌   |66/100, best_cost=50.1\u001b[A\u001b[A\n",
      "\n",
      "pyswarms.single.global_best:  67%|██████▋   |67/100, best_cost=50.1\u001b[A\u001b[A"
     ]
    },
    {
     "name": "stdout",
     "output_type": "stream",
     "text": [
      "nan\n"
     ]
    },
    {
     "name": "stderr",
     "output_type": "stream",
     "text": [
      "\n",
      "\n",
      "pyswarms.single.global_best:  67%|██████▋   |67/100, best_cost=50.1\u001b[A\u001b[A\n",
      "\n",
      "pyswarms.single.global_best:  68%|██████▊   |68/100, best_cost=50.1\u001b[A\u001b[A\n",
      "\n",
      "pyswarms.single.global_best:  68%|██████▊   |68/100, best_cost=50.1\u001b[A\u001b[A\n",
      "\n",
      "pyswarms.single.global_best:  69%|██████▉   |69/100, best_cost=50.1\u001b[A\u001b[A\n",
      "\n",
      "pyswarms.single.global_best:  69%|██████▉   |69/100, best_cost=50.1\u001b[A\u001b[A\n",
      "\n",
      "pyswarms.single.global_best:  70%|███████   |70/100, best_cost=50.1\u001b[A\u001b[A\n",
      "\n",
      "pyswarms.single.global_best:  70%|███████   |70/100, best_cost=50.1\u001b[A\u001b[A\n",
      "\n",
      "pyswarms.single.global_best:  71%|███████   |71/100, best_cost=50.1\u001b[A\u001b[A\n",
      "\n",
      "pyswarms.single.global_best:  71%|███████   |71/100, best_cost=50.1\u001b[A\u001b[A\n",
      "\n",
      "pyswarms.single.global_best:  72%|███████▏  |72/100, best_cost=50.1\u001b[A\u001b[A\n",
      "\n",
      "pyswarms.single.global_best:  72%|███████▏  |72/100, best_cost=50.1\u001b[A\u001b[A\n",
      "\n",
      "pyswarms.single.global_best:  73%|███████▎  |73/100, best_cost=50.1\u001b[A\u001b[A"
     ]
    },
    {
     "name": "stdout",
     "output_type": "stream",
     "text": [
      "nan\n"
     ]
    },
    {
     "name": "stderr",
     "output_type": "stream",
     "text": [
      "\n",
      "\n",
      "pyswarms.single.global_best:  73%|███████▎  |73/100, best_cost=50.1\u001b[A\u001b[A\n",
      "\n",
      "pyswarms.single.global_best:  74%|███████▍  |74/100, best_cost=50.1\u001b[A\u001b[A\n",
      "\n",
      "pyswarms.single.global_best:  74%|███████▍  |74/100, best_cost=50.1\u001b[A\u001b[A\n",
      "\n",
      "pyswarms.single.global_best:  75%|███████▌  |75/100, best_cost=50.1\u001b[A\u001b[A\n",
      "\n",
      "pyswarms.single.global_best:  75%|███████▌  |75/100, best_cost=50.1\u001b[A\u001b[A\n",
      "\n",
      "pyswarms.single.global_best:  76%|███████▌  |76/100, best_cost=50.1\u001b[A\u001b[A\n",
      "\n",
      "pyswarms.single.global_best:  76%|███████▌  |76/100, best_cost=50.1\u001b[A\u001b[A\n",
      "\n",
      "pyswarms.single.global_best:  77%|███████▋  |77/100, best_cost=50.1\u001b[A\u001b[A\n",
      "\n",
      "pyswarms.single.global_best:  77%|███████▋  |77/100, best_cost=50.1\u001b[A\u001b[A\n",
      "\n",
      "pyswarms.single.global_best:  78%|███████▊  |78/100, best_cost=50.1\u001b[A\u001b[A\n",
      "\n",
      "pyswarms.single.global_best:  78%|███████▊  |78/100, best_cost=50.1\u001b[A\u001b[A\n",
      "\n",
      "pyswarms.single.global_best:  79%|███████▉  |79/100, best_cost=50.1\u001b[A\u001b[A\n",
      "\n",
      "pyswarms.single.global_best:  79%|███████▉  |79/100, best_cost=50.1\u001b[A\u001b[A\n",
      "\n",
      "pyswarms.single.global_best:  80%|████████  |80/100, best_cost=50.1\u001b[A\u001b[A\n",
      "\n",
      "pyswarms.single.global_best:  80%|████████  |80/100, best_cost=50.1\u001b[A\u001b[A\n",
      "\n",
      "pyswarms.single.global_best:  81%|████████  |81/100, best_cost=50.1\u001b[A\u001b[A\n",
      "\n",
      "pyswarms.single.global_best:  81%|████████  |81/100, best_cost=50.1\u001b[A\u001b[A\n",
      "\n",
      "pyswarms.single.global_best:  82%|████████▏ |82/100, best_cost=50.1\u001b[A\u001b[A\n",
      "\n",
      "pyswarms.single.global_best:  82%|████████▏ |82/100, best_cost=50.1\u001b[A\u001b[A\n",
      "\n",
      "pyswarms.single.global_best:  83%|████████▎ |83/100, best_cost=50.1\u001b[A\u001b[A\n",
      "\n",
      "pyswarms.single.global_best:  83%|████████▎ |83/100, best_cost=50  \u001b[A\u001b[A\n",
      "\n",
      "pyswarms.single.global_best:  84%|████████▍ |84/100, best_cost=50\u001b[A\u001b[A\n",
      "\n",
      "pyswarms.single.global_best:  84%|████████▍ |84/100, best_cost=49.6\u001b[A\u001b[A\n",
      "\n",
      "pyswarms.single.global_best:  85%|████████▌ |85/100, best_cost=49.6\u001b[A\u001b[A"
     ]
    },
    {
     "name": "stdout",
     "output_type": "stream",
     "text": [
      "nan\n"
     ]
    },
    {
     "name": "stderr",
     "output_type": "stream",
     "text": [
      "\n",
      "\n",
      "pyswarms.single.global_best:  85%|████████▌ |85/100, best_cost=49.6\u001b[A\u001b[A\n",
      "\n",
      "pyswarms.single.global_best:  86%|████████▌ |86/100, best_cost=49.6\u001b[A\u001b[A\n",
      "\n",
      "pyswarms.single.global_best:  86%|████████▌ |86/100, best_cost=49.6\u001b[A\u001b[A\n",
      "\n",
      "pyswarms.single.global_best:  87%|████████▋ |87/100, best_cost=49.6\u001b[A\u001b[A\n",
      "\n",
      "pyswarms.single.global_best:  87%|████████▋ |87/100, best_cost=49.6\u001b[A\u001b[A\n",
      "\n",
      "pyswarms.single.global_best:  88%|████████▊ |88/100, best_cost=49.6\u001b[A\u001b[A\n",
      "\n",
      "pyswarms.single.global_best:  88%|████████▊ |88/100, best_cost=49.6\u001b[A\u001b[A\n",
      "\n",
      "pyswarms.single.global_best:  89%|████████▉ |89/100, best_cost=49.6\u001b[A\u001b[A\n",
      "\n",
      "pyswarms.single.global_best:  89%|████████▉ |89/100, best_cost=49.6\u001b[A\u001b[A\n",
      "\n",
      "pyswarms.single.global_best:  90%|█████████ |90/100, best_cost=49.6\u001b[A\u001b[A\n",
      "\n",
      "pyswarms.single.global_best:  90%|█████████ |90/100, best_cost=49.6\u001b[A\u001b[A\n",
      "\n",
      "pyswarms.single.global_best:  91%|█████████ |91/100, best_cost=49.6\u001b[A\u001b[A\n",
      "\n",
      "pyswarms.single.global_best:  91%|█████████ |91/100, best_cost=49.6\u001b[A\u001b[A\n",
      "\n",
      "pyswarms.single.global_best:  92%|█████████▏|92/100, best_cost=49.6\u001b[A\u001b[A\n",
      "\n",
      "pyswarms.single.global_best:  92%|█████████▏|92/100, best_cost=49.6\u001b[A\u001b[A\n",
      "\n",
      "pyswarms.single.global_best:  93%|█████████▎|93/100, best_cost=49.6\u001b[A\u001b[A\n",
      "\n",
      "pyswarms.single.global_best:  93%|█████████▎|93/100, best_cost=49.6\u001b[A\u001b[A\n",
      "\n",
      "pyswarms.single.global_best:  94%|█████████▍|94/100, best_cost=49.6\u001b[A\u001b[A\n",
      "\n",
      "pyswarms.single.global_best:  94%|█████████▍|94/100, best_cost=49.6\u001b[A\u001b[A\n",
      "\n",
      "pyswarms.single.global_best:  95%|█████████▌|95/100, best_cost=49.6\u001b[A\u001b[A\n",
      "\n",
      "pyswarms.single.global_best:  95%|█████████▌|95/100, best_cost=49.6\u001b[A\u001b[A\n",
      "\n",
      "pyswarms.single.global_best:  96%|█████████▌|96/100, best_cost=49.6\u001b[A\u001b[A\n",
      "\n",
      "pyswarms.single.global_best:  96%|█████████▌|96/100, best_cost=49.6\u001b[A\u001b[A\n",
      "\n",
      "pyswarms.single.global_best:  97%|█████████▋|97/100, best_cost=49.6\u001b[A\u001b[A\n",
      "\n",
      "pyswarms.single.global_best:  97%|█████████▋|97/100, best_cost=49.6\u001b[A\u001b[A\n",
      "\n",
      "pyswarms.single.global_best:  98%|█████████▊|98/100, best_cost=49.6\u001b[A\u001b[A\n",
      "\n",
      "pyswarms.single.global_best:  98%|█████████▊|98/100, best_cost=49.6\u001b[A\u001b[A\n",
      "\n",
      "pyswarms.single.global_best:  99%|█████████▉|99/100, best_cost=49.6\u001b[A\u001b[A\n",
      "\n",
      "pyswarms.single.global_best:  99%|█████████▉|99/100, best_cost=49.6\u001b[A\u001b[A\n",
      "\n",
      "pyswarms.single.global_best: 100%|██████████|100/100, best_cost=49.6\u001b[A\u001b[A\n",
      "2020-04-21 01:43:49,799 - pyswarms.single.global_best - INFO - Optimization finished | best cost: 49.5777702331543, best pos: [0.03046828 2.2526017  1.05884053 0.01112224]\n"
     ]
    }
   ],
   "source": [
    "bounds = ([0.0001, 0.5, 0.01, 0.01], \n",
    "          [0.05, 7.0, 2.0, 0.5])\n",
    "pos = [5.51058311e-04, 1.88272420e+00, 8.21801970e-01, 1.05987874e-02]\n",
    "options = {'c1': 0.7, 'c2': 0.1, 'w': 0.9}\n",
    "init_pos = np.random.uniform(low=bounds[0], high=bounds[1], size=(25, 4))\n",
    "init_pos[0] = pos\n",
    "optimizer = GlobalBestPSO(n_particles=25, dimensions=4, options=options, bounds=bounds, init_pos=init_pos)\n",
    "cost, pos = optimizer.optimize(loss, 100)"
   ]
  },
  {
   "cell_type": "code",
   "execution_count": 12,
   "metadata": {
    "scrolled": true
   },
   "outputs": [
    {
     "name": "stdout",
     "output_type": "stream",
     "text": [
      "[0.03046828 2.2526017  1.05884053 0.01112224]\n"
     ]
    },
    {
     "data": {
      "image/png": "[encoded data removed]",
      "text/plain": [
       "<Figure size 432x288 with 1 Axes>"
      ]
     },
     "metadata": {
      "needs_background": "light"
     },
     "output_type": "display_data"
    },
    {
     "name": "stderr",
     "output_type": "stream",
     "text": [
      "/Users/bastian/miniconda3/envs/ml/lib/python3.8/site-packages/gym/logger.py:30: UserWarning: \u001b[33mWARN: Box bound precision lowered by casting to float32\u001b[0m\n",
      "  warnings.warn(colorize('%s: %s'%('WARN', msg % args), 'yellow'))\n",
      "/Users/bastian/miniconda3/envs/ml/lib/python3.8/site-packages/gym/logger.py:30: UserWarning: \u001b[33mWARN: Box bound precision lowered by casting to float32\u001b[0m\n",
      "  warnings.warn(colorize('%s: %s'%('WARN', msg % args), 'yellow'))\n"
     ]
    },
    {
     "name": "stdout",
     "output_type": "stream",
     "text": [
      "49.57777\n"
     ]
    },
    {
     "data": {
      "image/png": "[encoded data removed]",
      "text/plain": [
       "<Figure size 432x288 with 1 Axes>"
      ]
     },
     "metadata": {
      "needs_background": "light"
     },
     "output_type": "display_data"
    }
   ],
   "source": [
    "print(pos)\n",
    "s = fun(pos)\n",
    "\n",
    "plt.figure()\n",
    "a, = plt.plot(states[:,0], label='Real data')\n",
    "b, = plt.plot(s[:,0], label='Simulation')\n",
    "plt.xlabel('Time steps')\n",
    "plt.ylabel('Angle in radians')\n",
    "plt.legend(handles=[a,b])\n",
    "tikzplotlib.save(\"polefit.tex\")\n",
    "plt.show()\n",
    "\n",
    "plt.figure()\n",
    "plt.plot(loss_(pos))\n",
    "print(np.sum(loss_(pos)))"
   ]
  },
  {
   "cell_type": "code",
   "execution_count": 49,
   "metadata": {},
   "outputs": [
    {
     "data": {
      "text/plain": [
       " active_mask: array([0, 0, 0, 0, 0])\n",
       "        cost: 0.011053385213017464\n",
       "         fun: array([2.2737371e-14, 2.2737371e-14, 2.2737371e-14, ..., 3.8595318e-09,\n",
       "       3.8595318e-09, 3.8595318e-09], dtype=float32)\n",
       "        grad: array([-0.00391693,  0.        ,  0.02159393,  0.01855953, -0.01856432])\n",
       "         jac: array([[0., 0., 0., 0., 0.],\n",
       "       [0., 0., 0., 0., 0.],\n",
       "       [0., 0., 0., 0., 0.],\n",
       "       ...,\n",
       "       [0., 0., 0., 0., 0.],\n",
       "       [0., 0., 0., 0., 0.],\n",
       "       [0., 0., 0., 0., 0.]])\n",
       "     message: '`xtol` termination condition is satisfied.'\n",
       "        nfev: 19\n",
       "        njev: 8\n",
       "  optimality: 0.030112236070514414\n",
       "      status: 3\n",
       "     success: True\n",
       "           x: array([2.26273920e-01, 7.77691616e-01, 1.40447706e+00, 1.35050072e-03,\n",
       "       1.65104690e-02])"
      ]
     },
     "execution_count": 49,
     "metadata": {},
     "output_type": "execute_result"
    }
   ],
   "source": [
    "optimize.least_squares(loss_, pos, bounds=bounds)"
   ]
  },
  {
   "cell_type": "code",
   "execution_count": null,
   "metadata": {},
   "outputs": [],
   "source": []
  }
 ],
 "metadata": {
  "kernelspec": {
   "display_name": "Python 3",
   "language": "python",
   "name": "python3"
  },
  "language_info": {
   "codemirror_mode": {
    "name": "ipython",
    "version": 3
   },
   "file_extension": ".py",
   "mimetype": "text/x-python",
   "name": "python",
   "nbconvert_exporter": "python",
   "pygments_lexer": "ipython3",
   "version": "3.8.1"
  }
 },
 "nbformat": 4,
 "nbformat_minor": 4
}
