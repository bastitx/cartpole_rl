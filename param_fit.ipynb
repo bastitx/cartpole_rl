{
 "cells": [
  {
   "cell_type": "code",
   "execution_count": 1,
   "metadata": {},
   "outputs": [],
   "source": [
    "import numpy as np\n",
    "from scipy import optimize\n",
    "from sim.cartpole import CartPoleEnv\n",
    "from agents.random_agent import RandomAgent\n",
    "import csv"
   ]
  },
  {
   "cell_type": "code",
   "execution_count": 2,
   "metadata": {},
   "outputs": [],
   "source": [
    "actions = []\n",
    "with open('memory.csv', newline='') as csvfile:\n",
    "    reader = csv.reader(csvfile, delimiter=',')\n",
    "    next(reader)\n",
    "    for row in reader:\n",
    "        actions += [float(row[3])]"
   ]
  },
  {
   "cell_type": "code",
   "execution_count": 3,
   "metadata": {},
   "outputs": [],
   "source": [
    "render = False\n",
    "def fun(theta):\n",
    "    env = CartPoleEnv(swingup=True)\n",
    "    env.masscart = theta[0]\n",
    "    env.masspole = theta[1]\n",
    "    env.length = theta[2]\n",
    "    states = []\n",
    "    states += [env.reset()]\n",
    "    if render:\n",
    "        env.render()\n",
    "    for x in actions:\n",
    "        states += [env.step([x])[0]]\n",
    "        if render:\n",
    "            env.render()\n",
    "    if render:\n",
    "        env.close\n",
    "    return np.array(states)"
   ]
  },
  {
   "cell_type": "code",
   "execution_count": 4,
   "metadata": {},
   "outputs": [
    {
     "name": "stderr",
     "output_type": "stream",
     "text": [
      "/Users/bastian/miniconda3/envs/ml/lib/python3.8/site-packages/gym/logger.py:30: UserWarning: \u001b[33mWARN: Box bound precision lowered by casting to float32\u001b[0m\n",
      "  warnings.warn(colorize('%s: %s'%('WARN', msg % args), 'yellow'))\n"
     ]
    }
   ],
   "source": [
    "solution_theta = [1.0, 0.1, 0.5]\n",
    "solution_states = fun(solution_theta)"
   ]
  },
  {
   "cell_type": "code",
   "execution_count": 24,
   "metadata": {},
   "outputs": [],
   "source": [
    "def loss(theta):\n",
    "    states = fun(theta)\n",
    "    return np.sum(solution_states[:,[0,3]] - states[:,[0,3]], axis=1)"
   ]
  },
  {
   "cell_type": "code",
   "execution_count": 31,
   "metadata": {},
   "outputs": [
    {
     "name": "stdout",
     "output_type": "stream",
     "text": [
      "   Iteration     Total nfev        Cost      Cost reduction    Step norm     Optimality   \n",
      "       0              1         2.9108e+03                                    1.32e+07    \n",
      "       1              3         2.7204e+03      1.90e+02       2.49e-05       1.05e+07    \n",
      "       2              5         2.5328e+03      1.88e+02       6.22e-06       6.81e+06    \n",
      "       3              7         2.5014e+03      3.15e+01       3.11e-06       7.20e+04    \n",
      "       4              9         2.2703e+03      2.31e+02       1.56e-06       1.60e+06    \n",
      "       5             10         2.2126e+03      5.77e+01       3.11e-06       3.79e+05    \n",
      "       6             16         2.2126e+03      0.00e+00       0.00e+00       3.79e+05    \n",
      "`xtol` termination condition is satisfied.\n",
      "Function evaluations 16, initial cost 2.9108e+03, final cost 2.2126e+03, first-order optimality 3.79e+05.\n",
      "Result: [1.50001747 0.30002061 0.30002182]\n",
      "Loss: 2212.6069753530146\n",
      "Reason: `xtol` termination condition is satisfied.\n"
     ]
    }
   ],
   "source": [
    "guess = [1.5, 0.3, 0.3]\n",
    "result = optimize.least_squares(loss, guess, diff_step=0.0001, verbose=2)\n",
    "print(\"Result: {}\\nLoss: {}\\nReason: {}\".format(result.x, result.cost, result.message))"
   ]
  },
  {
   "cell_type": "code",
   "execution_count": null,
   "metadata": {},
   "outputs": [],
   "source": []
  }
 ],
 "metadata": {
  "kernelspec": {
   "display_name": "Python 3",
   "language": "python",
   "name": "python3"
  },
  "language_info": {
   "codemirror_mode": {
    "name": "ipython",
    "version": 3
   },
   "file_extension": ".py",
   "mimetype": "text/x-python",
   "name": "python",
   "nbconvert_exporter": "python",
   "pygments_lexer": "ipython3",
   "version": "3.8.1"
  }
 },
 "nbformat": 4,
 "nbformat_minor": 4
}
